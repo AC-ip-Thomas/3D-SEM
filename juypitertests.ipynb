{
 "cells": [
  {
   "cell_type": "code",
   "execution_count": 3,
   "metadata": {},
   "outputs": [
    {
     "name": "stdout",
     "output_type": "stream",
     "text": [
      "\n",
      " Load Images:\n",
      "."
     ]
    },
    {
     "name": "stdout",
     "output_type": "stream",
     "text": [
      ".. 3 images loaded.\n"
     ]
    },
    {
     "data": {
      "text/plain": [
       "{'B_sesi_0_100kx.tif': array([[ 74,  73,  74, ..., 130, 134, 129],\n",
       "        [ 75,  71,  74, ..., 130, 135, 132],\n",
       "        [ 81,  78,  76, ..., 134, 130, 136],\n",
       "        ...,\n",
       "        [255, 255, 255, ..., 255, 255,  52],\n",
       "        [ 35,  35,  36, ...,  46,  49,  46],\n",
       "        [ 35,  37,  35, ...,  43,  45,  45]], dtype=uint8),\n",
       " 'B_sesi_10_100kx.tif': array([[ 77,  76,  78, ..., 151, 143, 141],\n",
       "        [ 78,  77,  83, ..., 161, 154, 144],\n",
       "        [ 80,  84,  86, ..., 150, 151, 152],\n",
       "        ...,\n",
       "        [255, 255, 255, ..., 255, 255,  63],\n",
       "        [ 47,  52,  54, ...,  60,  59,  62],\n",
       "        [ 47,  46,  50, ...,  60,  61,  63]], dtype=uint8),\n",
       " 'B_sesi_5_100kx.tif': array([[ 58,  56,  55, ..., 108, 109, 104],\n",
       "        [ 56,  55,  57, ..., 106, 109, 102],\n",
       "        [ 57,  56,  56, ..., 109, 103, 103],\n",
       "        ...,\n",
       "        [255, 255, 255, ..., 255, 255,  87],\n",
       "        [ 42,  42,  43, ...,  84,  86,  86],\n",
       "        [ 43,  42,  45, ...,  87,  89,  89]], dtype=uint8)}"
      ]
     },
     "execution_count": 3,
     "metadata": {},
     "output_type": "execute_result"
    }
   ],
   "source": [
    "import cv2 as cv\n",
    "import os\n",
    "\n",
    "def load_images_from_folder(folder):\n",
    "    \"\"\"\n",
    "    reads all images as grayscale situated in a folder\n",
    "    the folder has to contain only image data\n",
    "    the order of the files should be in the same order as the tilt series\n",
    "    f.i. starting with -15°, ending with +30°\n",
    "\n",
    "    folder  - directory as a string, f.i., r'Z:\\...\\Images'\n",
    "    --------------------------------------------------\n",
    "    images  - list that contains images\n",
    "    \"\"\"\n",
    "\n",
    "    images = {}\n",
    "    i = 0\n",
    "    print(\"\\n Load Images:\")\n",
    "\n",
    "    for filename in os.listdir(folder):\n",
    "        img = cv.imread(os.path.join(folder, filename), cv.IMREAD_GRAYSCALE)\n",
    "\n",
    "        if img is not None:\n",
    "            images[filename] = img\n",
    "            print(\".\", end=\"\", flush=True)\n",
    "            i += 1\n",
    "        else:\n",
    "            raise Exception(\"There are no images in the folder.\")\n",
    "\n",
    "    print(\" {} images loaded.\".format(i))\n",
    "    return images\n",
    "\n",
    "load_images_from_folder(r\"C:\\Users\\RoseT01\\OneDrive - Johnson Matthey\\Documents\\GitHub\\3D-SEM\\res\\tom\")"
   ]
  }
 ],
 "metadata": {
  "kernelspec": {
   "display_name": "stereo",
   "language": "python",
   "name": "python3"
  },
  "language_info": {
   "codemirror_mode": {
    "name": "ipython",
    "version": 3
   },
   "file_extension": ".py",
   "mimetype": "text/x-python",
   "name": "python",
   "nbconvert_exporter": "python",
   "pygments_lexer": "ipython3",
   "version": "3.10.14"
  }
 },
 "nbformat": 4,
 "nbformat_minor": 2
}

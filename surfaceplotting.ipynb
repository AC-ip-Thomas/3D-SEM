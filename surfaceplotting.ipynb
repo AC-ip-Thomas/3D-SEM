{
 "cells": [
  {
   "cell_type": "code",
   "execution_count": 1,
   "metadata": {},
   "outputs": [],
   "source": [
    "import plotly.graph_objects as go\n",
    "import pandas as pd\n",
    "import numpy as np\n",
    "from scipy.interpolate import griddata\n",
    " # !!! this actually generates a surface\n",
    "\n",
    "df = np.load(r\"reconstructed_point_cloudBSESI.npy\")\n",
    "\n",
    "keep = np.where(df[:,2] <= 0)\n",
    "\n",
    "dr = df[keep]\n",
    "\n",
    "x = dr[:,0]\n",
    "y = dr[:,1]\n",
    "z = dr[:,2]\n",
    "\n",
    "xi = np.linspace(x.min(), x.max(), 100)\n",
    "yi = np.linspace(y.min(), y.max(), 100)\n",
    "\n",
    "X,Y = np.meshgrid(xi,yi)\n",
    "\n",
    "Z = griddata((x,y),z,(X,Y), method='cubic')\n",
    "\n",
    "\n",
    "\n",
    "fig = go.Figure(go.Surface(x=xi,y=yi,z=Z))\n",
    "fig.write_html('real_surface2.html')"
   ]
  }
 ],
 "metadata": {
  "kernelspec": {
   "display_name": "stereo",
   "language": "python",
   "name": "python3"
  },
  "language_info": {
   "codemirror_mode": {
    "name": "ipython",
    "version": 3
   },
   "file_extension": ".py",
   "mimetype": "text/x-python",
   "name": "python",
   "nbconvert_exporter": "python",
   "pygments_lexer": "ipython3",
   "version": "3.10.14"
  }
 },
 "nbformat": 4,
 "nbformat_minor": 2
}
